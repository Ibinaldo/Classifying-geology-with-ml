{
 "cells": [
  {
   "cell_type": "markdown",
   "metadata": {},
   "source": [
    "<h1><center>Combining CSV files and data cleaning for analysis </center></h1>\n",
    "\n",
    "Note: CSV files for each well of interest should be in the same folder. Function could be functionized if you wish"
   ]
  },
  {
   "cell_type": "code",
   "execution_count": 1,
   "metadata": {},
   "outputs": [],
   "source": [
    "import pandas as pd\n",
    "import glob \n",
    "import matplotlib.pyplot as plt\n",
    "import numpy as np\n",
    "import os"
   ]
  },
  {
   "cell_type": "code",
   "execution_count": null,
   "metadata": {},
   "outputs": [],
   "source": [
    "# Obtain current directory\n",
    "direc = os.getcwd()\n",
    "direc = direc + \"\\*.csv\"\n",
    "\n",
    "# Combine paths to CSV files into an object\n",
    "files = []\n",
    "    \n",
    "for filepath in glob.iglob(direc):\n",
    "    files.append(filepath)\n",
    "    \n",
    "# Concatante csv files\n",
    "df = pd.DataFrame()\n",
    "\n",
    "for file in files:\n",
    "    df_new = pd.read_csv(file)\n",
    "    df = pd.concat([df,df_new])\n",
    "    \n",
    "df.shape\n"
   ]
  },
  {
   "cell_type": "code",
   "execution_count": null,
   "metadata": {},
   "outputs": [],
   "source": [
    "# Write dataframe to csv file\n",
    "df.reset_index(drop=True,inplace=True)\n",
    "df.to_csv('Kinney_oil_ML.csv')"
   ]
  },
  {
   "cell_type": "code",
   "execution_count": null,
   "metadata": {},
   "outputs": [],
   "source": [
    "df = pd.read_csv('Kinney_oil_ML.csv')"
   ]
  }
 ],
 "metadata": {
  "kernelspec": {
   "display_name": "Python 3",
   "language": "python",
   "name": "python3"
  },
  "language_info": {
   "codemirror_mode": {
    "name": "ipython",
    "version": 3
   },
   "file_extension": ".py",
   "mimetype": "text/x-python",
   "name": "python",
   "nbconvert_exporter": "python",
   "pygments_lexer": "ipython3",
   "version": "3.7.6"
  }
 },
 "nbformat": 4,
 "nbformat_minor": 4
}
